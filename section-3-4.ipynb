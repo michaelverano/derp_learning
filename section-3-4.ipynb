{
 "cells": [
  {
   "cell_type": "code",
   "execution_count": 1,
   "metadata": {},
   "outputs": [
    {
     "name": "stderr",
     "output_type": "stream",
     "text": [
      "Using TensorFlow backend.\n"
     ]
    }
   ],
   "source": [
    "from keras.datasets import imdb"
   ]
  },
  {
   "cell_type": "code",
   "execution_count": 2,
   "metadata": {},
   "outputs": [],
   "source": [
    "(train_data, train_labels), (test_data, test_labels) = imdb.load_data(num_words=10000)"
   ]
  },
  {
   "cell_type": "code",
   "execution_count": 3,
   "metadata": {},
   "outputs": [],
   "source": [
    "import numpy as np\n",
    "\n",
    "def vectorize_sequences(sequences, dimension=10000):\n",
    "    results = np.zeros((len(sequences), dimension))\n",
    "    for i, sequence in enumerate(sequences):\n",
    "        results[i, sequence] = 1.\n",
    "    return results\n",
    "\n",
    "x_train = vectorize_sequences(train_data)\n",
    "x_test = vectorize_sequences(test_data)"
   ]
  },
  {
   "cell_type": "code",
   "execution_count": 4,
   "metadata": {},
   "outputs": [],
   "source": [
    "y_train = np.asarray(train_labels).astype('float32')\n",
    "y_test = np.asarray(test_labels).astype('float32')"
   ]
  },
  {
   "cell_type": "code",
   "execution_count": 5,
   "metadata": {},
   "outputs": [],
   "source": [
    "from keras import models\n",
    "from keras import layers\n",
    "\n",
    "model = models.Sequential()\n",
    "model.add(layers.Dense(16, activation='relu', input_shape=(10000,)))\n",
    "model.add(layers.Dense(16, activation='relu'))\n",
    "model.add(layers.Dense(1, activation='sigmoid'))"
   ]
  },
  {
   "cell_type": "code",
   "execution_count": 6,
   "metadata": {},
   "outputs": [],
   "source": [
    "model.compile(optimizer='rmsprop', loss='binary_crossentropy', metrics=['accuracy'])"
   ]
  },
  {
   "cell_type": "code",
   "execution_count": 7,
   "metadata": {},
   "outputs": [],
   "source": [
    "from keras import optimizers\n",
    "\n",
    "model.compile(optimizer=optimizers.RMSprop(lr=0.001), \n",
    "             loss='binary_crossentropy',\n",
    "             metrics=['accuracy'])"
   ]
  },
  {
   "cell_type": "code",
   "execution_count": 8,
   "metadata": {},
   "outputs": [],
   "source": [
    "from keras import losses\n",
    "from keras import metrics\n",
    "\n",
    "model.compile(optimizer=optimizers.RMSprop(lr=0.001),\n",
    "             loss=losses.binary_crossentropy,\n",
    "             metrics=[metrics.binary_accuracy])"
   ]
  },
  {
   "cell_type": "code",
   "execution_count": 9,
   "metadata": {},
   "outputs": [],
   "source": [
    "x_val = x_train[:10000]\n",
    "partial_x_train = x_train[10000:]"
   ]
  },
  {
   "cell_type": "code",
   "execution_count": 10,
   "metadata": {},
   "outputs": [],
   "source": [
    "y_val = y_train[:10000]\n",
    "partial_y_train = y_train[10000:]"
   ]
  },
  {
   "cell_type": "code",
   "execution_count": 11,
   "metadata": {},
   "outputs": [],
   "source": [
    "model.compile(optimizer='rmsprop',\n",
    "             loss='binary_crossentropy',\n",
    "             metrics=['acc'])"
   ]
  },
  {
   "cell_type": "code",
   "execution_count": 12,
   "metadata": {},
   "outputs": [
    {
     "name": "stdout",
     "output_type": "stream",
     "text": [
      "Train on 15000 samples, validate on 10000 samples\n",
      "Epoch 1/20\n",
      "15000/15000 [==============================] - 7s 454us/step - loss: 0.5300 - acc: 0.7698 - val_loss: 0.3974 - val_acc: 0.8688\n",
      "Epoch 2/20\n",
      "15000/15000 [==============================] - 3s 181us/step - loss: 0.3196 - acc: 0.8966 - val_loss: 0.3115 - val_acc: 0.8875\n",
      "Epoch 3/20\n",
      "15000/15000 [==============================] - 3s 181us/step - loss: 0.2300 - acc: 0.9275 - val_loss: 0.3093 - val_acc: 0.8757\n",
      "Epoch 4/20\n",
      "15000/15000 [==============================] - 3s 180us/step - loss: 0.1818 - acc: 0.9429 - val_loss: 0.2936 - val_acc: 0.8827\n",
      "Epoch 5/20\n",
      "15000/15000 [==============================] - 3s 210us/step - loss: 0.1479 - acc: 0.9530 - val_loss: 0.2797 - val_acc: 0.8875\n",
      "Epoch 6/20\n",
      "15000/15000 [==============================] - 3s 189us/step - loss: 0.1218 - acc: 0.9617 - val_loss: 0.2979 - val_acc: 0.8843\n",
      "Epoch 7/20\n",
      "15000/15000 [==============================] - 3s 182us/step - loss: 0.1002 - acc: 0.9711 - val_loss: 0.3025 - val_acc: 0.8837\n",
      "Epoch 8/20\n",
      "15000/15000 [==============================] - 3s 183us/step - loss: 0.0834 - acc: 0.9779 - val_loss: 0.3266 - val_acc: 0.8805\n",
      "Epoch 9/20\n",
      "15000/15000 [==============================] - 3s 184us/step - loss: 0.0664 - acc: 0.9829 - val_loss: 0.3677 - val_acc: 0.8763\n",
      "Epoch 10/20\n",
      "15000/15000 [==============================] - 3s 183us/step - loss: 0.0544 - acc: 0.9861 - val_loss: 0.3726 - val_acc: 0.8787\n",
      "Epoch 11/20\n",
      "15000/15000 [==============================] - 3s 185us/step - loss: 0.0420 - acc: 0.9903 - val_loss: 0.4024 - val_acc: 0.8769\n",
      "Epoch 12/20\n",
      "15000/15000 [==============================] - 3s 183us/step - loss: 0.0333 - acc: 0.9935 - val_loss: 0.4754 - val_acc: 0.8669\n",
      "Epoch 13/20\n",
      "15000/15000 [==============================] - 3s 182us/step - loss: 0.0250 - acc: 0.9955 - val_loss: 0.4744 - val_acc: 0.8714\n",
      "Epoch 14/20\n",
      "15000/15000 [==============================] - 3s 182us/step - loss: 0.0208 - acc: 0.9955 - val_loss: 0.5031 - val_acc: 0.8739\n",
      "Epoch 15/20\n",
      "15000/15000 [==============================] - 3s 182us/step - loss: 0.0160 - acc: 0.9973 - val_loss: 0.5440 - val_acc: 0.8706\n",
      "Epoch 16/20\n",
      "15000/15000 [==============================] - 3s 181us/step - loss: 0.0094 - acc: 0.9995 - val_loss: 0.5789 - val_acc: 0.8707\n",
      "Epoch 17/20\n",
      "15000/15000 [==============================] - 3s 184us/step - loss: 0.0107 - acc: 0.9986 - val_loss: 0.6100 - val_acc: 0.8714\n",
      "Epoch 18/20\n",
      "15000/15000 [==============================] - 3s 183us/step - loss: 0.0087 - acc: 0.9987 - val_loss: 0.6414 - val_acc: 0.8682\n",
      "Epoch 19/20\n",
      "15000/15000 [==============================] - 3s 182us/step - loss: 0.0038 - acc: 0.9999 - val_loss: 0.6983 - val_acc: 0.8648\n",
      "Epoch 20/20\n",
      "15000/15000 [==============================] - 3s 183us/step - loss: 0.0063 - acc: 0.9987 - val_loss: 0.7042 - val_acc: 0.8672\n"
     ]
    }
   ],
   "source": [
    "history = model.fit(partial_x_train, partial_y_train, epochs=20, batch_size=512, validation_data=(x_val, y_val))"
   ]
  },
  {
   "cell_type": "code",
   "execution_count": 13,
   "metadata": {},
   "outputs": [
    {
     "data": {
      "image/png": "[encoded data removed]",
      "text/plain": [
       "<Figure size 432x288 with 1 Axes>"
      ]
     },
     "metadata": {
      "needs_background": "light"
     },
     "output_type": "display_data"
    }
   ],
   "source": [
    "import matplotlib.pyplot as plt\n",
    "\n",
    "history_dict = history.history\n",
    "loss_values = history_dict['loss']\n",
    "val_loss_values = history_dict['val_loss']\n",
    "\n",
    "epochs = range(1, len(history_dict['acc']) + 1)\n",
    "\n",
    "plt.plot(epochs, loss_values, 'bo', label='Training loss')\n",
    "plt.plot(epochs, val_loss_values, 'b', label='Validation loss')\n",
    "plt.title('Training and validation loss')\n",
    "plt.xlabel('Epochs')\n",
    "plt.ylabel('Loss')\n",
    "plt.legend()\n",
    "plt.show()"
   ]
  },
  {
   "cell_type": "code",
   "execution_count": 16,
   "metadata": {},
   "outputs": [
    {
     "data": {
      "image/png": "[encoded data removed]",
      "text/plain": [
       "<Figure size 432x288 with 1 Axes>"
      ]
     },
     "metadata": {
      "needs_background": "light"
     },
     "output_type": "display_data"
    }
   ],
   "source": [
    "plt.clf()\n",
    "acc_values = history_dict['acc']\n",
    "val_acc_values = history_dict['val_acc']\n",
    "\n",
    "plt.plot(epochs, acc_values, 'bo', label='Training acc')\n",
    "plt.plot(epochs, val_acc_values, 'b', label='Validation acc')\n",
    "plt.title('Training and validation accuracy')\n",
    "plt.xlabel('Epochs')\n",
    "plt.ylabel('Loss')\n",
    "plt.legend()\n",
    "\n",
    "plt.show()"
   ]
  },
  {
   "cell_type": "code",
   "execution_count": 18,
   "metadata": {},
   "outputs": [
    {
     "name": "stdout",
     "output_type": "stream",
     "text": [
      "Epoch 1/4\n",
      "25000/25000 [==============================] - 4s 162us/step - loss: 0.4435 - accuracy: 0.8189\n",
      "Epoch 2/4\n",
      "25000/25000 [==============================] - 3s 130us/step - loss: 0.2537 - accuracy: 0.9104\n",
      "Epoch 3/4\n",
      "25000/25000 [==============================] - 3s 130us/step - loss: 0.1941 - accuracy: 0.9308\n",
      "Epoch 4/4\n",
      "25000/25000 [==============================] - 4s 150us/step - loss: 0.1627 - accuracy: 0.9415\n",
      "25000/25000 [==============================] - 7s 262us/step\n"
     ]
    }
   ],
   "source": [
    "model = models.Sequential()\n",
    "model.add(layers.Dense(16, activation='relu', input_shape=(10000,)))\n",
    "model.add(layers.Dense(16, activation='relu'))\n",
    "model.add(layers.Dense(1, activation='sigmoid'))\n",
    "\n",
    "model.compile(optimizer='rmsprop',\n",
    "             loss='binary_crossentropy',\n",
    "             metrics=['accuracy'])\n",
    "\n",
    "model.fit(x_train, y_train, epochs=4, batch_size=512)\n",
    "results = model.evaluate(x_test, y_test)"
   ]
  },
  {
   "cell_type": "code",
   "execution_count": 19,
   "metadata": {},
   "outputs": [
    {
     "data": {
      "text/plain": [
       "[0.3254258848571777, 0.8730000257492065]"
      ]
     },
     "execution_count": 19,
     "metadata": {},
     "output_type": "execute_result"
    }
   ],
   "source": [
    "results"
   ]
  },
  {
   "cell_type": "code",
   "execution_count": 20,
   "metadata": {},
   "outputs": [
    {
     "data": {
      "text/plain": [
       "array([[0.13310269],\n",
       "       [0.99971074],\n",
       "       [0.6492263 ],\n",
       "       ...,\n",
       "       [0.08863536],\n",
       "       [0.04066888],\n",
       "       [0.5270175 ]], dtype=float32)"
      ]
     },
     "execution_count": 20,
     "metadata": {},
     "output_type": "execute_result"
    }
   ],
   "source": [
    "model.predict(x_test)"
   ]
  },
  {
   "cell_type": "code",
   "execution_count": 22,
   "metadata": {},
   "outputs": [
    {
     "name": "stdout",
     "output_type": "stream",
     "text": [
      "Epoch 1/4\n",
      "25000/25000 [==============================] - 3s 110us/step - loss: 0.7459 - accuracy: 0.6624\n",
      "Epoch 2/4\n",
      "25000/25000 [==============================] - 2s 88us/step - loss: 0.3779 - accuracy: 0.8368\n",
      "Epoch 3/4\n",
      "25000/25000 [==============================] - 2s 87us/step - loss: 0.2961 - accuracy: 0.8638\n",
      "Epoch 4/4\n",
      "25000/25000 [==============================] - 2s 88us/step - loss: 0.2561 - accuracy: 0.8593\n",
      "25000/25000 [==============================] - 3s 121us/step\n"
     ]
    }
   ],
   "source": [
    "model = models.Sequential()\n",
    "model.add(layers.Dense(1, activation='relu', input_shape=(10000,)))\n",
    "\n",
    "model.compile(optimizer='rmsprop',\n",
    "             loss='binary_crossentropy',\n",
    "             metrics=['accuracy'])\n",
    "\n",
    "model.fit(x_train, y_train, epochs=4, batch_size=512)\n",
    "\n",
    "results = model.evaluate(x_test, y_test)"
   ]
  },
  {
   "cell_type": "code",
   "execution_count": 23,
   "metadata": {},
   "outputs": [
    {
     "data": {
      "text/plain": [
       "[0.4100925183391571, 0.817359983921051]"
      ]
     },
     "execution_count": 23,
     "metadata": {},
     "output_type": "execute_result"
    }
   ],
   "source": [
    "results"
   ]
  },
  {
   "cell_type": "code",
   "execution_count": 37,
   "metadata": {
    "scrolled": true
   },
   "outputs": [
    {
     "name": "stdout",
     "output_type": "stream",
     "text": [
      "Epoch 1/14\n",
      "25000/25000 [==============================] - 4s 153us/step - loss: 0.1414 - accuracy: 0.8238\n",
      "Epoch 2/14\n",
      "25000/25000 [==============================] - 4s 153us/step - loss: 0.0714 - accuracy: 0.9114\n",
      "Epoch 3/14\n",
      "25000/25000 [==============================] - 4s 179us/step - loss: 0.0533 - accuracy: 0.9335\n",
      "Epoch 4/14\n",
      "25000/25000 [==============================] - 3s 128us/step - loss: 0.0429 - accuracy: 0.9476\n",
      "Epoch 5/14\n",
      "25000/25000 [==============================] - 3s 126us/step - loss: 0.0361 - accuracy: 0.9562\n",
      "Epoch 6/14\n",
      "25000/25000 [==============================] - 3s 130us/step - loss: 0.0306 - accuracy: 0.9638\n",
      "Epoch 7/14\n",
      "25000/25000 [==============================] - 3s 132us/step - loss: 0.0253 - accuracy: 0.9708\n",
      "Epoch 8/14\n",
      "25000/25000 [==============================] - 3s 129us/step - loss: 0.0227 - accuracy: 0.9742\n",
      "Epoch 9/14\n",
      "25000/25000 [==============================] - 3s 126us/step - loss: 0.0187 - accuracy: 0.9796\n",
      "Epoch 10/14\n",
      "25000/25000 [==============================] - 3s 125us/step - loss: 0.0182 - accuracy: 0.9796\n",
      "Epoch 11/14\n",
      "25000/25000 [==============================] - 3s 130us/step - loss: 0.0149 - accuracy: 0.9837\n",
      "Epoch 12/14\n",
      "25000/25000 [==============================] - 3s 139us/step - loss: 0.0137 - accuracy: 0.9854\n",
      "Epoch 13/14\n",
      "25000/25000 [==============================] - 3s 130us/step - loss: 0.0121 - accuracy: 0.9870\n",
      "Epoch 14/14\n",
      "25000/25000 [==============================] - 3s 130us/step - loss: 0.0111 - accuracy: 0.9883\n",
      "25000/25000 [==============================] - 5s 201us/step\n"
     ]
    }
   ],
   "source": [
    "model = models.Sequential()\n",
    "model.add(layers.Dense(16, activation='relu', input_shape=(10000,)))\n",
    "model.add(layers.Dense(16, activation='relu'))\n",
    "model.add(layers.Dense(16, activation='tanh'))\n",
    "model.add(layers.Dense(1, activation='sigmoid'))\n",
    "\n",
    "model.compile(optimizer='rmsprop',\n",
    "             loss='mse',\n",
    "             metrics=['accuracy'])\n",
    "\n",
    "model.fit(x_train, y_train, epochs=14, batch_size=512)\n",
    "results = model.evaluate(x_test, y_test)"
   ]
  },
  {
   "cell_type": "code",
   "execution_count": 38,
   "metadata": {},
   "outputs": [
    {
     "data": {
      "text/plain": [
       "[0.12219951095014811, 0.8598799705505371]"
      ]
     },
     "execution_count": 38,
     "metadata": {},
     "output_type": "execute_result"
    }
   ],
   "source": [
    "results"
   ]
  },
  {
   "cell_type": "code",
   "execution_count": 40,
   "metadata": {},
   "outputs": [
    {
     "data": {
      "image/png": "[encoded data removed]",
      "text/plain": [
       "<Figure size 432x288 with 1 Axes>"
      ]
     },
     "metadata": {
      "needs_background": "light"
     },
     "output_type": "display_data"
    }
   ],
   "source": [
    "plt.clf()\n",
    "acc_values = history_dict['acc']\n",
    "val_acc_values = history_dict['val_acc']\n",
    "\n",
    "plt.plot(epochs, acc_values, 'bo', label='training acc')\n",
    "plt.plot(epochs, val_acc_values, 'b', label='Validation acc')\n",
    "plt.title('Training and validation accuracy')\n",
    "plt.xlabel('Epochs')\n",
    "plt.ylabel('Loss')\n",
    "plt.legend()\n",
    "\n",
    "plt.show()"
   ]
  },
  {
   "cell_type": "code",
   "execution_count": null,
   "metadata": {},
   "outputs": [],
   "source": []
  }
 ],
 "metadata": {
  "kernelspec": {
   "display_name": "Python 3",
   "language": "python",
   "name": "python3"
  },
  "language_info": {
   "codemirror_mode": {
    "name": "ipython",
    "version": 3
   },
   "file_extension": ".py",
   "mimetype": "text/x-python",
   "name": "python",
   "nbconvert_exporter": "python",
   "pygments_lexer": "ipython3",
   "version": "3.6.10"
  }
 },
 "nbformat": 4,
 "nbformat_minor": 4
}
