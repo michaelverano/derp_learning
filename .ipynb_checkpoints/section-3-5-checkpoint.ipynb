{
 "cells": [
  {
   "cell_type": "code",
   "execution_count": 1,
   "metadata": {},
   "outputs": [
    {
     "name": "stderr",
     "output_type": "stream",
     "text": [
      "Using TensorFlow backend.\n"
     ]
    }
   ],
   "source": [
    "from keras.datasets import reuters"
   ]
  },
  {
   "cell_type": "code",
   "execution_count": 2,
   "metadata": {},
   "outputs": [
    {
     "name": "stdout",
     "output_type": "stream",
     "text": [
      "Downloading data from https://s3.amazonaws.com/text-datasets/reuters.npz\n",
      "2113536/2110848 [==============================] - 1s 0us/step\n"
     ]
    }
   ],
   "source": [
    "(train_data, train_labels), (test_data, test_labels) = reuters.load_data(num_words=10000)"
   ]
  },
  {
   "cell_type": "code",
   "execution_count": 3,
   "metadata": {},
   "outputs": [
    {
     "data": {
      "text/plain": [
       "8982"
      ]
     },
     "execution_count": 3,
     "metadata": {},
     "output_type": "execute_result"
    }
   ],
   "source": [
    "len(train_data)"
   ]
  },
  {
   "cell_type": "code",
   "execution_count": 4,
   "metadata": {},
   "outputs": [
    {
     "data": {
      "text/plain": [
       "2246"
      ]
     },
     "execution_count": 4,
     "metadata": {},
     "output_type": "execute_result"
    }
   ],
   "source": [
    "len(test_data)"
   ]
  },
  {
   "cell_type": "code",
   "execution_count": 5,
   "metadata": {},
   "outputs": [
    {
     "data": {
      "text/plain": [
       "[1,\n",
       " 245,\n",
       " 273,\n",
       " 207,\n",
       " 156,\n",
       " 53,\n",
       " 74,\n",
       " 160,\n",
       " 26,\n",
       " 14,\n",
       " 46,\n",
       " 296,\n",
       " 26,\n",
       " 39,\n",
       " 74,\n",
       " 2979,\n",
       " 3554,\n",
       " 14,\n",
       " 46,\n",
       " 4689,\n",
       " 4329,\n",
       " 86,\n",
       " 61,\n",
       " 3499,\n",
       " 4795,\n",
       " 14,\n",
       " 61,\n",
       " 451,\n",
       " 4329,\n",
       " 17,\n",
       " 12]"
      ]
     },
     "execution_count": 5,
     "metadata": {},
     "output_type": "execute_result"
    }
   ],
   "source": [
    "train_data[10]"
   ]
  },
  {
   "cell_type": "code",
   "execution_count": 6,
   "metadata": {},
   "outputs": [
    {
     "name": "stdout",
     "output_type": "stream",
     "text": [
      "Downloading data from https://s3.amazonaws.com/text-datasets/reuters_word_index.json\n",
      "557056/550378 [==============================] - 0s 1us/step\n"
     ]
    }
   ],
   "source": [
    "word_index = reuters.get_word_index()\n",
    "reverse_word_index = dict([(value, key) for (key, value) in word_index.items()])"
   ]
  },
  {
   "cell_type": "code",
   "execution_count": 7,
   "metadata": {},
   "outputs": [],
   "source": [
    "decoded_newswire = ' '.join([reverse_word_index.get(i - 3, '?') for i in train_data[0]])"
   ]
  },
  {
   "cell_type": "code",
   "execution_count": 8,
   "metadata": {},
   "outputs": [
    {
     "data": {
      "text/plain": [
       "'? ? ? said as a result of its december acquisition of space co it expects earnings per share in 1987 of 1 15 to 1 30 dlrs per share up from 70 cts in 1986 the company said pretax net should rise to nine to 10 mln dlrs from six mln dlrs in 1986 and rental operation revenues to 19 to 22 mln dlrs from 12 5 mln dlrs it said cash flow per share this year should be 2 50 to three dlrs reuter 3'"
      ]
     },
     "execution_count": 8,
     "metadata": {},
     "output_type": "execute_result"
    }
   ],
   "source": [
    "decoded_newswire"
   ]
  },
  {
   "cell_type": "code",
   "execution_count": 9,
   "metadata": {},
   "outputs": [
    {
     "data": {
      "text/plain": [
       "3"
      ]
     },
     "execution_count": 9,
     "metadata": {},
     "output_type": "execute_result"
    }
   ],
   "source": [
    "train_labels[10]"
   ]
  },
  {
   "cell_type": "code",
   "execution_count": 10,
   "metadata": {},
   "outputs": [],
   "source": [
    "import numpy as np\n",
    "\n",
    "def vectorize_sequences(sequences, dimension=10000):\n",
    "    results = np.zeros((len(sequences), dimension))\n",
    "    for i, sequence in enumerate(sequences):\n",
    "        results[i, sequence] = 1.\n",
    "    return results\n",
    "\n",
    "x_train = vectorize_sequences(train_data)\n",
    "x_test = vectorize_sequences(test_data)"
   ]
  },
  {
   "cell_type": "code",
   "execution_count": 17,
   "metadata": {},
   "outputs": [],
   "source": [
    "from keras.utils.np_utils import to_categorical\n",
    "\n",
    "one_hot_train_labels = to_categorical(train_labels)\n",
    "one_hot_test_labels = to_categorical(test_labels)\n"
   ]
  },
  {
   "cell_type": "code",
   "execution_count": 22,
   "metadata": {},
   "outputs": [
    {
     "name": "stdout",
     "output_type": "stream",
     "text": [
      "Train on 7982 samples, validate on 1000 samples\n",
      "Epoch 1/20\n",
      "7982/7982 [==============================] - 4s 521us/step - loss: 2.6543 - accuracy: 0.5219 - val_loss: 1.7199 - val_accuracy: 0.6340\n",
      "Epoch 2/20\n",
      "7982/7982 [==============================] - 3s 383us/step - loss: 1.4011 - accuracy: 0.7058 - val_loss: 1.3073 - val_accuracy: 0.7210\n",
      "Epoch 3/20\n",
      "7982/7982 [==============================] - 3s 378us/step - loss: 1.0433 - accuracy: 0.7777 - val_loss: 1.1572 - val_accuracy: 0.7350\n",
      "Epoch 4/20\n",
      "7982/7982 [==============================] - 3s 367us/step - loss: 0.8238 - accuracy: 0.8245 - val_loss: 1.0335 - val_accuracy: 0.7800\n",
      "Epoch 5/20\n",
      "7982/7982 [==============================] - 3s 410us/step - loss: 0.6649 - accuracy: 0.8579 - val_loss: 1.0318 - val_accuracy: 0.7800\n",
      "Epoch 6/20\n",
      "7982/7982 [==============================] - 3s 378us/step - loss: 0.5365 - accuracy: 0.8877 - val_loss: 0.9208 - val_accuracy: 0.8110\n",
      "Epoch 7/20\n",
      "7982/7982 [==============================] - 3s 389us/step - loss: 0.4313 - accuracy: 0.9083 - val_loss: 0.8906 - val_accuracy: 0.8170\n",
      "Epoch 8/20\n",
      "7982/7982 [==============================] - 3s 382us/step - loss: 0.3556 - accuracy: 0.9232 - val_loss: 0.9012 - val_accuracy: 0.8220\n",
      "Epoch 9/20\n",
      "7982/7982 [==============================] - 3s 388us/step - loss: 0.2900 - accuracy: 0.9359 - val_loss: 0.9241 - val_accuracy: 0.8130\n",
      "Epoch 10/20\n",
      "7982/7982 [==============================] - 3s 405us/step - loss: 0.2460 - accuracy: 0.9437 - val_loss: 0.9114 - val_accuracy: 0.8130\n",
      "Epoch 11/20\n",
      "7982/7982 [==============================] - 3s 374us/step - loss: 0.2101 - accuracy: 0.9486 - val_loss: 0.9353 - val_accuracy: 0.8110\n",
      "Epoch 12/20\n",
      "7982/7982 [==============================] - 3s 410us/step - loss: 0.1829 - accuracy: 0.9505 - val_loss: 0.9027 - val_accuracy: 0.8180\n",
      "Epoch 13/20\n",
      "7982/7982 [==============================] - 3s 412us/step - loss: 0.1670 - accuracy: 0.9528 - val_loss: 0.9835 - val_accuracy: 0.8160\n",
      "Epoch 14/20\n",
      "7982/7982 [==============================] - 4s 451us/step - loss: 0.1512 - accuracy: 0.9553 - val_loss: 0.9623 - val_accuracy: 0.8090\n",
      "Epoch 15/20\n",
      "7982/7982 [==============================] - 3s 393us/step - loss: 0.1394 - accuracy: 0.9555 - val_loss: 0.9848 - val_accuracy: 0.8120\n",
      "Epoch 16/20\n",
      "7982/7982 [==============================] - 3s 389us/step - loss: 0.1325 - accuracy: 0.9573 - val_loss: 1.0145 - val_accuracy: 0.8050\n",
      "Epoch 17/20\n",
      "7982/7982 [==============================] - 3s 392us/step - loss: 0.1204 - accuracy: 0.9560 - val_loss: 1.0518 - val_accuracy: 0.8050\n",
      "Epoch 18/20\n",
      "7982/7982 [==============================] - 3s 398us/step - loss: 0.1223 - accuracy: 0.9559 - val_loss: 1.0334 - val_accuracy: 0.8120\n",
      "Epoch 19/20\n",
      "7982/7982 [==============================] - 3s 381us/step - loss: 0.1159 - accuracy: 0.9567 - val_loss: 1.0751 - val_accuracy: 0.8050\n",
      "Epoch 20/20\n",
      "7982/7982 [==============================] - 3s 376us/step - loss: 0.1107 - accuracy: 0.9578 - val_loss: 1.1097 - val_accuracy: 0.8020\n"
     ]
    }
   ],
   "source": [
    "from keras import models\n",
    "from keras import layers\n",
    "\n",
    "model = models.Sequential()\n",
    "model.add(layers.Dense(64, activation='relu', input_shape=(10000,)))\n",
    "model.add(layers.Dense(64, activation='relu',))\n",
    "model.add(layers.Dense(46, activation='softmax'))\n",
    "\n",
    "model.compile(optimizer='rmsprop',\n",
    "             loss='categorical_crossentropy',\n",
    "             metrics=['accuracy'])\n",
    "\n",
    "x_val = x_train[:1000]\n",
    "partial_x_train = x_train[1000:]\n",
    "\n",
    "y_val = one_hot_train_labels[:1000]\n",
    "partial_y_train = one_hot_train_labels[1000:]\n",
    "\n",
    "history = model.fit(partial_x_train,\n",
    "                    partial_y_train,\n",
    "                    epochs=20,\n",
    "                    batch_size=512,\n",
    "                    validation_data=(x_val, y_val))"
   ]
  },
  {
   "cell_type": "code",
   "execution_count": 24,
   "metadata": {},
   "outputs": [
    {
     "data": {
      "image/png": "[encoded data removed]",
      "text/plain": [
       "<Figure size 432x288 with 1 Axes>"
      ]
     },
     "metadata": {
      "needs_background": "light"
     },
     "output_type": "display_data"
    }
   ],
   "source": [
    "import matplotlib.pyplot as plt\n",
    "\n",
    "loss = history.history['loss']\n",
    "val_loss = history.history['val_loss']\n",
    "\n",
    "epochs = range(1, len(loss) + 1)\n",
    "\n",
    "plt.plot(epochs, loss, 'bo', label='Training loss')\n",
    "plt.plot(epochs, val_loss, 'b', label='Validation loss')\n",
    "plt.title('Training and validation loss')\n",
    "plt.xlabel('Epochs')\n",
    "plt.ylabel('Loss')\n",
    "plt.legend()\n",
    "\n",
    "plt.show()"
   ]
  },
  {
   "cell_type": "code",
   "execution_count": 25,
   "metadata": {},
   "outputs": [
    {
     "name": "stdout",
     "output_type": "stream",
     "text": [
      "Train on 7982 samples, validate on 1000 samples\n",
      "Epoch 1/9\n",
      "7982/7982 [==============================] - 4s 458us/step - loss: 2.6476 - accuracy: 0.5066 - val_loss: 1.7613 - val_accuracy: 0.6490\n",
      "Epoch 2/9\n",
      "7982/7982 [==============================] - 3s 367us/step - loss: 1.4470 - accuracy: 0.7008 - val_loss: 1.3261 - val_accuracy: 0.6990\n",
      "Epoch 3/9\n",
      "7982/7982 [==============================] - 3s 388us/step - loss: 1.0479 - accuracy: 0.7759 - val_loss: 1.1359 - val_accuracy: 0.7680\n",
      "Epoch 4/9\n",
      "7982/7982 [==============================] - 3s 413us/step - loss: 0.8142 - accuracy: 0.8302 - val_loss: 1.0181 - val_accuracy: 0.7980\n",
      "Epoch 5/9\n",
      "7982/7982 [==============================] - 3s 379us/step - loss: 0.6412 - accuracy: 0.8695 - val_loss: 0.9640 - val_accuracy: 0.7960\n",
      "Epoch 6/9\n",
      "7982/7982 [==============================] - 3s 396us/step - loss: 0.5135 - accuracy: 0.8941 - val_loss: 0.9249 - val_accuracy: 0.8060\n",
      "Epoch 7/9\n",
      "7982/7982 [==============================] - 3s 403us/step - loss: 0.4106 - accuracy: 0.9144 - val_loss: 0.9060 - val_accuracy: 0.8070\n",
      "Epoch 8/9\n",
      "7982/7982 [==============================] - 3s 390us/step - loss: 0.3369 - accuracy: 0.9291 - val_loss: 0.8713 - val_accuracy: 0.8210\n",
      "Epoch 9/9\n",
      "7982/7982 [==============================] - 3s 417us/step - loss: 0.2727 - accuracy: 0.9397 - val_loss: 0.8856 - val_accuracy: 0.8200\n",
      "2246/2246 [==============================] - 1s 421us/step\n"
     ]
    }
   ],
   "source": [
    "model = models.Sequential()\n",
    "model.add(layers.Dense(64, activation='relu', input_shape=(10000,)))\n",
    "model.add(layers.Dense(64, activation='relu'))\n",
    "model.add(layers.Dense(46, activation='softmax'))\n",
    "\n",
    "model.compile(optimizer='rmsprop',\n",
    "             loss='categorical_crossentropy',\n",
    "             metrics=['accuracy'])\n",
    "\n",
    "model.fit(partial_x_train,\n",
    "         partial_y_train,\n",
    "         epochs=9,\n",
    "         batch_size=512,\n",
    "         validation_data=(x_val, y_val))\n",
    "\n",
    "results = model.evaluate(x_test, one_hot_test_labels)"
   ]
  },
  {
   "cell_type": "code",
   "execution_count": 26,
   "metadata": {},
   "outputs": [
    {
     "data": {
      "text/plain": [
       "[0.9704359624392203, 0.7951914668083191]"
      ]
     },
     "execution_count": 26,
     "metadata": {},
     "output_type": "execute_result"
    }
   ],
   "source": [
    "results"
   ]
  },
  {
   "cell_type": "code",
   "execution_count": 27,
   "metadata": {},
   "outputs": [
    {
     "data": {
      "text/plain": [
       "0.18744434550311664"
      ]
     },
     "execution_count": 27,
     "metadata": {},
     "output_type": "execute_result"
    }
   ],
   "source": [
    "import copy\n",
    "test_labels_copy = copy.copy(test_labels)\n",
    "np.random.shuffle(test_labels_copy)\n",
    "hits_array = np.array(test_labels) == np.array(test_labels_copy)\n",
    "float(np.sum(hits_array)) / len(test_labels)"
   ]
  },
  {
   "cell_type": "code",
   "execution_count": 29,
   "metadata": {},
   "outputs": [],
   "source": [
    "predictions = model.predict(x_test)"
   ]
  },
  {
   "cell_type": "code",
   "execution_count": 32,
   "metadata": {},
   "outputs": [
    {
     "data": {
      "text/plain": [
       "(46,)"
      ]
     },
     "execution_count": 32,
     "metadata": {},
     "output_type": "execute_result"
    }
   ],
   "source": [
    "predictions[0].shape"
   ]
  },
  {
   "cell_type": "code",
   "execution_count": 33,
   "metadata": {},
   "outputs": [
    {
     "data": {
      "text/plain": [
       "1.0"
      ]
     },
     "execution_count": 33,
     "metadata": {},
     "output_type": "execute_result"
    }
   ],
   "source": [
    "np.sum(predictions[0])"
   ]
  },
  {
   "cell_type": "code",
   "execution_count": 34,
   "metadata": {},
   "outputs": [
    {
     "data": {
      "text/plain": [
       "3"
      ]
     },
     "execution_count": 34,
     "metadata": {},
     "output_type": "execute_result"
    }
   ],
   "source": [
    "np.argmax(predictions[0])"
   ]
  },
  {
   "cell_type": "code",
   "execution_count": 35,
   "metadata": {},
   "outputs": [],
   "source": [
    "y_train = np.array(train_labels)\n",
    "y_test = np.array(test_labels)"
   ]
  },
  {
   "cell_type": "code",
   "execution_count": 45,
   "metadata": {},
   "outputs": [
    {
     "name": "stdout",
     "output_type": "stream",
     "text": [
      "Train on 7982 samples, validate on 1000 samples\n",
      "Epoch 1/20\n",
      "7982/7982 [==============================] - 5s 565us/step - loss: 1.7457 - accuracy: 0.6433 - val_loss: 1.2042 - val_accuracy: 0.7230\n",
      "Epoch 2/20\n",
      "7982/7982 [==============================] - 4s 502us/step - loss: 0.9111 - accuracy: 0.8042 - val_loss: 1.0068 - val_accuracy: 0.7870\n",
      "Epoch 3/20\n",
      "7982/7982 [==============================] - 4s 468us/step - loss: 0.5996 - accuracy: 0.8662 - val_loss: 0.8959 - val_accuracy: 0.8220\n",
      "Epoch 4/20\n",
      "7982/7982 [==============================] - 4s 550us/step - loss: 0.3991 - accuracy: 0.9136 - val_loss: 0.9327 - val_accuracy: 0.7970\n",
      "Epoch 5/20\n",
      "7982/7982 [==============================] - 4s 485us/step - loss: 0.2845 - accuracy: 0.9356 - val_loss: 0.8726 - val_accuracy: 0.8250\n",
      "Epoch 6/20\n",
      "7982/7982 [==============================] - 4s 523us/step - loss: 0.2262 - accuracy: 0.9460 - val_loss: 0.9260 - val_accuracy: 0.8140\n",
      "Epoch 7/20\n",
      "7982/7982 [==============================] - 4s 558us/step - loss: 0.1895 - accuracy: 0.9514 - val_loss: 0.9446 - val_accuracy: 0.8170\n",
      "Epoch 8/20\n",
      "7982/7982 [==============================] - 4s 554us/step - loss: 0.1647 - accuracy: 0.9538 - val_loss: 0.9676 - val_accuracy: 0.8220\n",
      "Epoch 9/20\n",
      "7982/7982 [==============================] - 4s 536us/step - loss: 0.1558 - accuracy: 0.9540 - val_loss: 1.0055 - val_accuracy: 0.8040\n",
      "Epoch 10/20\n",
      "7982/7982 [==============================] - 5s 582us/step - loss: 0.1444 - accuracy: 0.9541 - val_loss: 1.0052 - val_accuracy: 0.8160\n",
      "Epoch 11/20\n",
      "7982/7982 [==============================] - 4s 533us/step - loss: 0.1333 - accuracy: 0.9560 - val_loss: 1.0719 - val_accuracy: 0.8040\n",
      "Epoch 12/20\n",
      "7982/7982 [==============================] - 5s 571us/step - loss: 0.1271 - accuracy: 0.9562 - val_loss: 1.0849 - val_accuracy: 0.8040\n",
      "Epoch 13/20\n",
      "7982/7982 [==============================] - 4s 560us/step - loss: 0.1225 - accuracy: 0.9563 - val_loss: 1.0716 - val_accuracy: 0.8070\n",
      "Epoch 14/20\n",
      "7982/7982 [==============================] - 5s 570us/step - loss: 0.1169 - accuracy: 0.9546 - val_loss: 1.1693 - val_accuracy: 0.8000\n",
      "Epoch 15/20\n",
      "7982/7982 [==============================] - 4s 564us/step - loss: 0.1105 - accuracy: 0.9560 - val_loss: 1.1765 - val_accuracy: 0.8080\n",
      "Epoch 16/20\n",
      "7982/7982 [==============================] - 5s 631us/step - loss: 0.1081 - accuracy: 0.9560 - val_loss: 1.1964 - val_accuracy: 0.8010\n",
      "Epoch 17/20\n",
      "7982/7982 [==============================] - 5s 626us/step - loss: 0.1054 - accuracy: 0.9560 - val_loss: 1.1906 - val_accuracy: 0.7990\n",
      "Epoch 18/20\n",
      "7982/7982 [==============================] - 5s 573us/step - loss: 0.1005 - accuracy: 0.9540 - val_loss: 1.1970 - val_accuracy: 0.7990\n",
      "Epoch 19/20\n",
      "7982/7982 [==============================] - 5s 590us/step - loss: 0.0965 - accuracy: 0.9583 - val_loss: 1.2303 - val_accuracy: 0.8040\n",
      "Epoch 20/20\n",
      "7982/7982 [==============================] - 5s 642us/step - loss: 0.0944 - accuracy: 0.9560 - val_loss: 1.3313 - val_accuracy: 0.7970\n"
     ]
    },
    {
     "data": {
      "text/plain": [
       "<keras.callbacks.callbacks.History at 0x7fd8b7a56f98>"
      ]
     },
     "execution_count": 45,
     "metadata": {},
     "output_type": "execute_result"
    }
   ],
   "source": [
    "model = models.Sequential()\n",
    "model.add(layers.Dense(64, activation='relu', input_shape=(10000,)))\n",
    "model.add(layers.Dense(128, activation='relu'))\n",
    "model.add(layers.Dense(46, activation='softmax'))\n",
    "\n",
    "model.compile(optimizer='rmsprop',\n",
    "             loss='categorical_crossentropy',\n",
    "             metrics=['accuracy'])\n",
    "\n",
    "model.fit(partial_x_train,\n",
    "         partial_y_train,\n",
    "         epochs=20, \n",
    "         batch_size=128,\n",
    "         validation_data=(x_val, y_val))"
   ]
  },
  {
   "cell_type": "code",
   "execution_count": 46,
   "metadata": {},
   "outputs": [
    {
     "data": {
      "text/plain": [
       "[0.9704359624392203, 0.7951914668083191]"
      ]
     },
     "execution_count": 46,
     "metadata": {},
     "output_type": "execute_result"
    }
   ],
   "source": [
    "results"
   ]
  },
  {
   "cell_type": "code",
   "execution_count": null,
   "metadata": {},
   "outputs": [],
   "source": [
    "r"
   ]
  }
 ],
 "metadata": {
  "kernelspec": {
   "display_name": "Python 3",
   "language": "python",
   "name": "python3"
  },
  "language_info": {
   "codemirror_mode": {
    "name": "ipython",
    "version": 3
   },
   "file_extension": ".py",
   "mimetype": "text/x-python",
   "name": "python",
   "nbconvert_exporter": "python",
   "pygments_lexer": "ipython3",
   "version": "3.6.10"
  }
 },
 "nbformat": 4,
 "nbformat_minor": 4
}
